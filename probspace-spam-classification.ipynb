{
 "cells": [
  {
   "cell_type": "code",
   "execution_count": null,
   "metadata": {
    "scrolled": true
   },
   "outputs": [],
   "source": [
    "import re\n",
    "import os\n",
    "import torch\n",
    "import string\n",
    "import random\n",
    "import warnings\n",
    "import numpy as np\n",
    "import pandas as pd\n",
    "from bs4 import BeautifulSoup\n",
    "from nltk.corpus import stopwords\n",
    "from sklearn.metrics import f1_score\n",
    "from sklearn.naive_bayes import MultinomialNB\n",
    "from sklearn.model_selection import StratifiedKFold\n",
    "from sklearn.feature_extraction.text import CountVectorizer\n",
    "from simpletransformers.classification import ClassificationModel\n",
    "warnings.filterwarnings('ignore')"
   ]
  },
  {
   "cell_type": "code",
   "execution_count": null,
   "metadata": {},
   "outputs": [],
   "source": [
    "def fix_seed(seed):\n",
    "    random.seed(seed)\n",
    "    np.random.seed(seed)\n",
    "    os.environ[\"PYTHONHASHSEED\"] = str(seed)\n",
    "    torch.manual_seed(seed)\n",
    "    torch.cuda.manual_seed_all(seed)\n",
    "    torch.backends.cudnn.deterministic = True\n",
    "\n",
    "SEED = 2020\n",
    "fix_seed(SEED)"
   ]
  },
  {
   "cell_type": "code",
   "execution_count": null,
   "metadata": {
    "scrolled": true
   },
   "outputs": [],
   "source": [
    "df_train = pd.read_csv(\"./input/train_data.csv\")\n",
    "df_test = pd.read_csv(\"./input/test_data.csv\")"
   ]
  },
  {
   "cell_type": "code",
   "execution_count": null,
   "metadata": {
    "scrolled": true
   },
   "outputs": [],
   "source": [
    "df_train.head()"
   ]
  },
  {
   "cell_type": "code",
   "execution_count": null,
   "metadata": {
    "scrolled": true
   },
   "outputs": [],
   "source": [
    "df_test.head()"
   ]
  },
  {
   "cell_type": "code",
   "execution_count": null,
   "metadata": {
    "scrolled": true
   },
   "outputs": [],
   "source": [
    "stop = set(stopwords.words(\"english\"))\n",
    "punctuation = list(string.punctuation)\n",
    "org_stop = [\"Subject\"]\n",
    "add_stop = punctuation + org_stop\n",
    "stop.update(add_stop)"
   ]
  },
  {
   "cell_type": "code",
   "execution_count": null,
   "metadata": {
    "scrolled": true
   },
   "outputs": [],
   "source": [
    "def strip_html(text):\n",
    "    soup = BeautifulSoup(text, \"html.parser\")\n",
    "    return soup.get_text()\n",
    "\n",
    "\n",
    "def remove_urls(text):\n",
    "    return re.sub(r'http\\S+', '', text)\n",
    "\n",
    "\n",
    "def remove_stopwords(text):\n",
    "    final_text = []\n",
    "    for i in text.split():\n",
    "        if i.strip().lower() not in stop:\n",
    "            if i.strip().isalpha():\n",
    "                final_text.append(i.strip())\n",
    "    return \" \".join(final_text)\n",
    "\n",
    "\n",
    "def denoise_text(text):\n",
    "    text = strip_html(text)\n",
    "    text = remove_urls(text)\n",
    "    text = remove_stopwords(text)\n",
    "    return text\n",
    "\n",
    "\n",
    "df_train['contents'] = df_train['contents'].apply(denoise_text)\n",
    "df_test['contents'] = df_test[\"contents\"].apply(denoise_text)"
   ]
  },
  {
   "cell_type": "code",
   "execution_count": null,
   "metadata": {
    "scrolled": true
   },
   "outputs": [],
   "source": [
    "X = df_train['contents']\n",
    "y = df_train['y']"
   ]
  },
  {
   "cell_type": "code",
   "execution_count": null,
   "metadata": {
    "scrolled": true
   },
   "outputs": [],
   "source": [
    "N_FOLD = 10\n",
    "NUM = 10\n",
    "\n",
    "test_length = df_test.shape[0]\n",
    "X_pseudo = np.copy(X)\n",
    "y_pseudo = np.copy(y)\n",
    "vec_count = CountVectorizer(min_df=3)\n",
    "vec_count.fit(pd.concat([X, df_test.contents]))\n",
    "\n",
    "for num in range(NUM):\n",
    "    result_spm = np.zeros(test_length)\n",
    "    predictions = np.zeros(test_length)\n",
    "    skf = StratifiedKFold(n_splits=N_FOLD, shuffle=True, random_state=SEED)\n",
    "    for train_index, val_index in skf.split(X_pseudo, y_pseudo):\n",
    "        X_train = X_pseudo[train_index]\n",
    "        y_train = y_pseudo[train_index]\n",
    "        X_val = X_pseudo[val_index]\n",
    "        y_val = y_pseudo[val_index]\n",
    "\n",
    "        X_vec = vec_count.transform(X_train)\n",
    "        X_val_vec = vec_count.transform(X_val)\n",
    "\n",
    "        model = MultinomialNB()\n",
    "        model.fit(X_vec, y_train)\n",
    "\n",
    "        test_vec = vec_count.transform(df_test['contents'])\n",
    "        result_spm += model.predict_proba(test_vec)[:, 1].flatten() / N_FOLD\n",
    "\n",
    "    spm_indices = np.where(result_spm > 0.995)[0]\n",
    "    pseudo_spm_contents = df_test.iloc[spm_indices].contents\n",
    "    pseudo_spm_labels = pd.DataFrame(np.ones(len(spm_indices)).flatten())\n",
    "    X_pseudo = pd.concat([X, pseudo_spm_contents]).reset_index().contents\n",
    "    y_pseudo = pd.concat([y, pseudo_spm_labels]).values"
   ]
  },
  {
   "cell_type": "code",
   "execution_count": null,
   "metadata": {},
   "outputs": [],
   "source": [
    "N_FOLD = 7\n",
    "result = np.zeros(test_length)\n",
    "SEED = [41, 42, 43]\n",
    "\n",
    "for seed in SEED:\n",
    "    skf = StratifiedKFold(n_splits=N_FOLD, shuffle=True, random_state=seed)\n",
    "    params = {\n",
    "        \"output_dir\": \"outputs/\",\n",
    "        \"overwrite_output_dir\": True,\n",
    "        \"max_seq_length\": 128,\n",
    "        \"train_batch_size\": 32,\n",
    "        \"num_train_epochs\": 3,\n",
    "        \"manual_seed\": seed,\n",
    "    }\n",
    "    for train_index, val_index in skf.split(X_pseudo, y_pseudo):\n",
    "        X_train = X_pseudo[train_index]\n",
    "        y_train = y_pseudo[train_index]\n",
    "        X_val = X_pseudo[val_index]\n",
    "        y_val = y_pseudo[val_index]\n",
    "        model = ClassificationModel('roberta', 'roberta-base', args=params)\n",
    "        df_train_ = pd.DataFrame(\n",
    "            pd.concat([pd.Series(X_train).reset_index(drop=True), pd.Series(y_train.flatten()).reset_index(drop=True)], axis=1, ignore_index=True))\n",
    "        model.train_model(df_train_)\n",
    "        predictions, raw_outputs = model.predict(df_test['contents'])\n",
    "        result += raw_outputs[:, 1] / (N_FOLD*len(SEED))"
   ]
  },
  {
   "cell_type": "code",
   "execution_count": null,
   "metadata": {
    "scrolled": true
   },
   "outputs": [],
   "source": [
    "K = 17000\n",
    "unsorted_max_indices = np.argpartition(-result, K)[:K]\n",
    "\n",
    "y = result[unsorted_max_indices]\n",
    "\n",
    "indices = np.argsort(-y)\n",
    "\n",
    "max_k_indices = unsorted_max_indices[indices]\n",
    "predictions = np.zeros(len(result))\n",
    "for i in range(0, len(result)):\n",
    "    if i in max_k_indices:\n",
    "        predictions[i] = 1\n",
    "    else:\n",
    "        predictions[i] = 0"
   ]
  },
  {
   "cell_type": "code",
   "execution_count": null,
   "metadata": {
    "scrolled": true
   },
   "outputs": [],
   "source": [
    "print(np.sum(predictions))"
   ]
  },
  {
   "cell_type": "code",
   "execution_count": null,
   "metadata": {
    "scrolled": true
   },
   "outputs": [],
   "source": [
    "sub = pd.DataFrame(df_test[\"id\"])\n",
    "sub[\"y\"] = predictions"
   ]
  },
  {
   "cell_type": "code",
   "execution_count": null,
   "metadata": {
    "scrolled": true
   },
   "outputs": [],
   "source": [
    "sub.to_csv(\"submission.csv\", index=False)\n",
    "sub.head()"
   ]
  }
 ],
 "metadata": {
  "kernelspec": {
   "display_name": "Python 3",
   "language": "python",
   "name": "python3"
  },
  "language_info": {
   "codemirror_mode": {
    "name": "ipython",
    "version": 3
   },
   "file_extension": ".py",
   "mimetype": "text/x-python",
   "name": "python",
   "nbconvert_exporter": "python",
   "pygments_lexer": "ipython3",
   "version": "3.6.9"
  }
 },
 "nbformat": 4,
 "nbformat_minor": 4
}
